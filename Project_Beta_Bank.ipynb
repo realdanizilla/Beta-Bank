{
 "cells": [
  {
   "cell_type": "code",
   "execution_count": 49,
   "metadata": {},
   "outputs": [],
   "source": [
    "# importando as bibliotecas\n",
    "\n",
    "import pandas as pd\n",
    "import matplotlib.pyplot as plt\n",
    "from sklearn.model_selection import train_test_split\n",
    "from sklearn.tree import DecisionTreeClassifier\n",
    "from sklearn.ensemble import RandomForestClassifier\n",
    "from sklearn.linear_model import LogisticRegression\n",
    "from sklearn.metrics import accuracy_score, recall_score, precision_score, f1_score, roc_curve, roc_auc_score, confusion_matrix\n",
    "from sklearn.utils import shuffle"
   ]
  },
  {
   "cell_type": "code",
   "execution_count": 50,
   "metadata": {},
   "outputs": [],
   "source": [
    "# carregando os dados\n",
    "data = pd.read_csv(\"/datasets/Churn.csv\")"
   ]
  },
  {
   "cell_type": "code",
   "execution_count": 51,
   "metadata": {
    "scrolled": true
   },
   "outputs": [
    {
     "data": {
      "text/html": [
       "<div>\n",
       "<style scoped>\n",
       "    .dataframe tbody tr th:only-of-type {\n",
       "        vertical-align: middle;\n",
       "    }\n",
       "\n",
       "    .dataframe tbody tr th {\n",
       "        vertical-align: top;\n",
       "    }\n",
       "\n",
       "    .dataframe thead th {\n",
       "        text-align: right;\n",
       "    }\n",
       "</style>\n",
       "<table border=\"1\" class=\"dataframe\">\n",
       "  <thead>\n",
       "    <tr style=\"text-align: right;\">\n",
       "      <th></th>\n",
       "      <th>RowNumber</th>\n",
       "      <th>CustomerId</th>\n",
       "      <th>Surname</th>\n",
       "      <th>CreditScore</th>\n",
       "      <th>Geography</th>\n",
       "      <th>Gender</th>\n",
       "      <th>Age</th>\n",
       "      <th>Tenure</th>\n",
       "      <th>Balance</th>\n",
       "      <th>NumOfProducts</th>\n",
       "      <th>HasCrCard</th>\n",
       "      <th>IsActiveMember</th>\n",
       "      <th>EstimatedSalary</th>\n",
       "      <th>Exited</th>\n",
       "    </tr>\n",
       "  </thead>\n",
       "  <tbody>\n",
       "    <tr>\n",
       "      <th>4852</th>\n",
       "      <td>4853</td>\n",
       "      <td>15574137</td>\n",
       "      <td>Ch'in</td>\n",
       "      <td>687</td>\n",
       "      <td>Spain</td>\n",
       "      <td>Male</td>\n",
       "      <td>35</td>\n",
       "      <td>3.0</td>\n",
       "      <td>0.00</td>\n",
       "      <td>2</td>\n",
       "      <td>1</td>\n",
       "      <td>1</td>\n",
       "      <td>176450.19</td>\n",
       "      <td>0</td>\n",
       "    </tr>\n",
       "    <tr>\n",
       "      <th>8680</th>\n",
       "      <td>8681</td>\n",
       "      <td>15782939</td>\n",
       "      <td>Storey</td>\n",
       "      <td>747</td>\n",
       "      <td>France</td>\n",
       "      <td>Male</td>\n",
       "      <td>42</td>\n",
       "      <td>4.0</td>\n",
       "      <td>80214.36</td>\n",
       "      <td>1</td>\n",
       "      <td>1</td>\n",
       "      <td>0</td>\n",
       "      <td>115241.96</td>\n",
       "      <td>1</td>\n",
       "    </tr>\n",
       "    <tr>\n",
       "      <th>617</th>\n",
       "      <td>618</td>\n",
       "      <td>15766575</td>\n",
       "      <td>Larionova</td>\n",
       "      <td>612</td>\n",
       "      <td>Germany</td>\n",
       "      <td>Female</td>\n",
       "      <td>62</td>\n",
       "      <td>8.0</td>\n",
       "      <td>140745.33</td>\n",
       "      <td>1</td>\n",
       "      <td>1</td>\n",
       "      <td>0</td>\n",
       "      <td>193437.89</td>\n",
       "      <td>1</td>\n",
       "    </tr>\n",
       "    <tr>\n",
       "      <th>5482</th>\n",
       "      <td>5483</td>\n",
       "      <td>15642619</td>\n",
       "      <td>Mayne</td>\n",
       "      <td>603</td>\n",
       "      <td>Spain</td>\n",
       "      <td>Male</td>\n",
       "      <td>46</td>\n",
       "      <td>2.0</td>\n",
       "      <td>0.00</td>\n",
       "      <td>2</td>\n",
       "      <td>1</td>\n",
       "      <td>0</td>\n",
       "      <td>174478.54</td>\n",
       "      <td>0</td>\n",
       "    </tr>\n",
       "    <tr>\n",
       "      <th>8907</th>\n",
       "      <td>8908</td>\n",
       "      <td>15710671</td>\n",
       "      <td>Gordon</td>\n",
       "      <td>786</td>\n",
       "      <td>France</td>\n",
       "      <td>Male</td>\n",
       "      <td>34</td>\n",
       "      <td>3.0</td>\n",
       "      <td>137361.96</td>\n",
       "      <td>1</td>\n",
       "      <td>0</td>\n",
       "      <td>0</td>\n",
       "      <td>183682.09</td>\n",
       "      <td>0</td>\n",
       "    </tr>\n",
       "    <tr>\n",
       "      <th>4443</th>\n",
       "      <td>4444</td>\n",
       "      <td>15566467</td>\n",
       "      <td>Hannah</td>\n",
       "      <td>683</td>\n",
       "      <td>Germany</td>\n",
       "      <td>Female</td>\n",
       "      <td>32</td>\n",
       "      <td>0.0</td>\n",
       "      <td>138171.10</td>\n",
       "      <td>2</td>\n",
       "      <td>1</td>\n",
       "      <td>1</td>\n",
       "      <td>188203.58</td>\n",
       "      <td>0</td>\n",
       "    </tr>\n",
       "    <tr>\n",
       "      <th>1308</th>\n",
       "      <td>1309</td>\n",
       "      <td>15662294</td>\n",
       "      <td>Bennett</td>\n",
       "      <td>710</td>\n",
       "      <td>France</td>\n",
       "      <td>Male</td>\n",
       "      <td>33</td>\n",
       "      <td>10.0</td>\n",
       "      <td>118327.17</td>\n",
       "      <td>2</td>\n",
       "      <td>1</td>\n",
       "      <td>1</td>\n",
       "      <td>192928.82</td>\n",
       "      <td>0</td>\n",
       "    </tr>\n",
       "    <tr>\n",
       "      <th>7414</th>\n",
       "      <td>7415</td>\n",
       "      <td>15802869</td>\n",
       "      <td>Ball</td>\n",
       "      <td>737</td>\n",
       "      <td>Germany</td>\n",
       "      <td>Female</td>\n",
       "      <td>45</td>\n",
       "      <td>2.0</td>\n",
       "      <td>99169.67</td>\n",
       "      <td>2</td>\n",
       "      <td>1</td>\n",
       "      <td>1</td>\n",
       "      <td>78650.95</td>\n",
       "      <td>0</td>\n",
       "    </tr>\n",
       "    <tr>\n",
       "      <th>5492</th>\n",
       "      <td>5493</td>\n",
       "      <td>15568487</td>\n",
       "      <td>Gorshkov</td>\n",
       "      <td>712</td>\n",
       "      <td>France</td>\n",
       "      <td>Male</td>\n",
       "      <td>35</td>\n",
       "      <td>7.0</td>\n",
       "      <td>124616.23</td>\n",
       "      <td>1</td>\n",
       "      <td>1</td>\n",
       "      <td>1</td>\n",
       "      <td>69320.97</td>\n",
       "      <td>0</td>\n",
       "    </tr>\n",
       "    <tr>\n",
       "      <th>4345</th>\n",
       "      <td>4346</td>\n",
       "      <td>15584536</td>\n",
       "      <td>Barber</td>\n",
       "      <td>720</td>\n",
       "      <td>Germany</td>\n",
       "      <td>Male</td>\n",
       "      <td>46</td>\n",
       "      <td>3.0</td>\n",
       "      <td>97042.60</td>\n",
       "      <td>1</td>\n",
       "      <td>1</td>\n",
       "      <td>1</td>\n",
       "      <td>133516.51</td>\n",
       "      <td>1</td>\n",
       "    </tr>\n",
       "  </tbody>\n",
       "</table>\n",
       "</div>"
      ],
      "text/plain": [
       "      RowNumber  CustomerId    Surname  CreditScore Geography  Gender  Age  \\\n",
       "4852       4853    15574137      Ch'in          687     Spain    Male   35   \n",
       "8680       8681    15782939     Storey          747    France    Male   42   \n",
       "617         618    15766575  Larionova          612   Germany  Female   62   \n",
       "5482       5483    15642619      Mayne          603     Spain    Male   46   \n",
       "8907       8908    15710671     Gordon          786    France    Male   34   \n",
       "4443       4444    15566467     Hannah          683   Germany  Female   32   \n",
       "1308       1309    15662294    Bennett          710    France    Male   33   \n",
       "7414       7415    15802869       Ball          737   Germany  Female   45   \n",
       "5492       5493    15568487   Gorshkov          712    France    Male   35   \n",
       "4345       4346    15584536     Barber          720   Germany    Male   46   \n",
       "\n",
       "      Tenure    Balance  NumOfProducts  HasCrCard  IsActiveMember  \\\n",
       "4852     3.0       0.00              2          1               1   \n",
       "8680     4.0   80214.36              1          1               0   \n",
       "617      8.0  140745.33              1          1               0   \n",
       "5482     2.0       0.00              2          1               0   \n",
       "8907     3.0  137361.96              1          0               0   \n",
       "4443     0.0  138171.10              2          1               1   \n",
       "1308    10.0  118327.17              2          1               1   \n",
       "7414     2.0   99169.67              2          1               1   \n",
       "5492     7.0  124616.23              1          1               1   \n",
       "4345     3.0   97042.60              1          1               1   \n",
       "\n",
       "      EstimatedSalary  Exited  \n",
       "4852        176450.19       0  \n",
       "8680        115241.96       1  \n",
       "617         193437.89       1  \n",
       "5482        174478.54       0  \n",
       "8907        183682.09       0  \n",
       "4443        188203.58       0  \n",
       "1308        192928.82       0  \n",
       "7414         78650.95       0  \n",
       "5492         69320.97       0  \n",
       "4345        133516.51       1  "
      ]
     },
     "execution_count": 51,
     "metadata": {},
     "output_type": "execute_result"
    }
   ],
   "source": [
    "# visualizando os dados\n",
    "data.sample(10)"
   ]
  },
  {
   "cell_type": "code",
   "execution_count": 52,
   "metadata": {
    "scrolled": false
   },
   "outputs": [
    {
     "name": "stdout",
     "output_type": "stream",
     "text": [
      "<class 'pandas.core.frame.DataFrame'>\n",
      "RangeIndex: 10000 entries, 0 to 9999\n",
      "Data columns (total 14 columns):\n",
      " #   Column           Non-Null Count  Dtype  \n",
      "---  ------           --------------  -----  \n",
      " 0   RowNumber        10000 non-null  int64  \n",
      " 1   CustomerId       10000 non-null  int64  \n",
      " 2   Surname          10000 non-null  object \n",
      " 3   CreditScore      10000 non-null  int64  \n",
      " 4   Geography        10000 non-null  object \n",
      " 5   Gender           10000 non-null  object \n",
      " 6   Age              10000 non-null  int64  \n",
      " 7   Tenure           9091 non-null   float64\n",
      " 8   Balance          10000 non-null  float64\n",
      " 9   NumOfProducts    10000 non-null  int64  \n",
      " 10  HasCrCard        10000 non-null  int64  \n",
      " 11  IsActiveMember   10000 non-null  int64  \n",
      " 12  EstimatedSalary  10000 non-null  float64\n",
      " 13  Exited           10000 non-null  int64  \n",
      "dtypes: float64(3), int64(8), object(3)\n",
      "memory usage: 1.1+ MB\n"
     ]
    }
   ],
   "source": [
    "# visualizando os tipos de dados\n",
    "data.info()"
   ]
  },
  {
   "cell_type": "markdown",
   "metadata": {},
   "source": [
    "Conclusions:\n",
    "\n",
    "- Data types are okay.\n",
    "- We need to handle missing data and NaN values in the Tenure column.\n",
    "- The Tenure field could be converted to an integer; however, it doesn't seem necessary at this point.\n",
    "- We will change the headers to lowercase.\n",
    "- We are dealing with a classification problem (Exited or Churned Y/N), so we will use Decision Tree, Random Forest, and Logistic Regression models, then decide which has the best F1-score.\n",
    "- We need to encode categorical features like Gender and Geography. We will not process Surname as we assume that the surname does not affect churn.\n",
    "- We need to scale the features because they have very different scales (e.g., age and account balance).\n",
    "- We need to evaluate class balance and apply over or under-sampling if necessary."
   ]
  },
  {
   "cell_type": "code",
   "execution_count": 53,
   "metadata": {},
   "outputs": [],
   "source": [
    "# mudando headers para lowercase\n",
    "data.columns = data.columns.str.lower()"
   ]
  },
  {
   "cell_type": "code",
   "execution_count": 54,
   "metadata": {
    "scrolled": true
   },
   "outputs": [
    {
     "data": {
      "text/plain": [
       "0.0     1291\n",
       "1.0      952\n",
       "2.0      950\n",
       "8.0      933\n",
       "3.0      928\n",
       "5.0      927\n",
       "7.0      925\n",
       "4.0      885\n",
       "9.0      882\n",
       "6.0      881\n",
       "10.0     446\n",
       "Name: tenure, dtype: int64"
      ]
     },
     "execution_count": 54,
     "metadata": {},
     "output_type": "execute_result"
    }
   ],
   "source": [
    "# substituindo valores vazios em tenure por 0, pois não podemos usar algo como \"unknown\" para escalar as características mais adiante\n",
    "data[\"tenure\"] = data[\"tenure\"].fillna(0)\n",
    "data[\"tenure\"].value_counts()"
   ]
  },
  {
   "cell_type": "code",
   "execution_count": 55,
   "metadata": {},
   "outputs": [
    {
     "name": "stdout",
     "output_type": "stream",
     "text": [
      "[]\n"
     ]
    }
   ],
   "source": [
    "# checando valores vazios\n",
    "nan_columns = data.columns[data.isnull().any()].tolist()\n",
    "print(nan_columns)"
   ]
  },
  {
   "cell_type": "code",
   "execution_count": 56,
   "metadata": {},
   "outputs": [],
   "source": [
    "# preparando os dados\n",
    "# removendo a coluna surname para que não atrapalhe a codificação one hot a ser feita em gender e geography\n",
    "data_noname = data.drop(\"surname\", axis=1)"
   ]
  },
  {
   "cell_type": "code",
   "execution_count": 57,
   "metadata": {
    "scrolled": true
   },
   "outputs": [
    {
     "data": {
      "text/html": [
       "<div>\n",
       "<style scoped>\n",
       "    .dataframe tbody tr th:only-of-type {\n",
       "        vertical-align: middle;\n",
       "    }\n",
       "\n",
       "    .dataframe tbody tr th {\n",
       "        vertical-align: top;\n",
       "    }\n",
       "\n",
       "    .dataframe thead th {\n",
       "        text-align: right;\n",
       "    }\n",
       "</style>\n",
       "<table border=\"1\" class=\"dataframe\">\n",
       "  <thead>\n",
       "    <tr style=\"text-align: right;\">\n",
       "      <th></th>\n",
       "      <th>rownumber</th>\n",
       "      <th>customerid</th>\n",
       "      <th>creditscore</th>\n",
       "      <th>geography</th>\n",
       "      <th>age</th>\n",
       "      <th>tenure</th>\n",
       "      <th>balance</th>\n",
       "      <th>numofproducts</th>\n",
       "      <th>hascrcard</th>\n",
       "      <th>isactivemember</th>\n",
       "      <th>estimatedsalary</th>\n",
       "      <th>exited</th>\n",
       "      <th>gender_Male</th>\n",
       "    </tr>\n",
       "  </thead>\n",
       "  <tbody>\n",
       "    <tr>\n",
       "      <th>1196</th>\n",
       "      <td>1197</td>\n",
       "      <td>15739131</td>\n",
       "      <td>718</td>\n",
       "      <td>Germany</td>\n",
       "      <td>28</td>\n",
       "      <td>0.0</td>\n",
       "      <td>65643.30</td>\n",
       "      <td>1</td>\n",
       "      <td>1</td>\n",
       "      <td>0</td>\n",
       "      <td>28760.99</td>\n",
       "      <td>0</td>\n",
       "      <td>1</td>\n",
       "    </tr>\n",
       "    <tr>\n",
       "      <th>2411</th>\n",
       "      <td>2412</td>\n",
       "      <td>15739502</td>\n",
       "      <td>549</td>\n",
       "      <td>Germany</td>\n",
       "      <td>31</td>\n",
       "      <td>9.0</td>\n",
       "      <td>135020.21</td>\n",
       "      <td>2</td>\n",
       "      <td>1</td>\n",
       "      <td>1</td>\n",
       "      <td>23343.18</td>\n",
       "      <td>0</td>\n",
       "      <td>0</td>\n",
       "    </tr>\n",
       "    <tr>\n",
       "      <th>9291</th>\n",
       "      <td>9292</td>\n",
       "      <td>15679804</td>\n",
       "      <td>636</td>\n",
       "      <td>France</td>\n",
       "      <td>36</td>\n",
       "      <td>5.0</td>\n",
       "      <td>117559.05</td>\n",
       "      <td>2</td>\n",
       "      <td>1</td>\n",
       "      <td>1</td>\n",
       "      <td>111573.30</td>\n",
       "      <td>0</td>\n",
       "      <td>1</td>\n",
       "    </tr>\n",
       "    <tr>\n",
       "      <th>4130</th>\n",
       "      <td>4131</td>\n",
       "      <td>15731669</td>\n",
       "      <td>554</td>\n",
       "      <td>France</td>\n",
       "      <td>39</td>\n",
       "      <td>2.0</td>\n",
       "      <td>129709.62</td>\n",
       "      <td>1</td>\n",
       "      <td>1</td>\n",
       "      <td>0</td>\n",
       "      <td>173197.12</td>\n",
       "      <td>0</td>\n",
       "      <td>1</td>\n",
       "    </tr>\n",
       "    <tr>\n",
       "      <th>6424</th>\n",
       "      <td>6425</td>\n",
       "      <td>15782608</td>\n",
       "      <td>743</td>\n",
       "      <td>France</td>\n",
       "      <td>43</td>\n",
       "      <td>0.0</td>\n",
       "      <td>0.00</td>\n",
       "      <td>2</td>\n",
       "      <td>0</td>\n",
       "      <td>0</td>\n",
       "      <td>113079.19</td>\n",
       "      <td>1</td>\n",
       "      <td>1</td>\n",
       "    </tr>\n",
       "    <tr>\n",
       "      <th>3175</th>\n",
       "      <td>3176</td>\n",
       "      <td>15764604</td>\n",
       "      <td>586</td>\n",
       "      <td>France</td>\n",
       "      <td>35</td>\n",
       "      <td>7.0</td>\n",
       "      <td>164769.02</td>\n",
       "      <td>3</td>\n",
       "      <td>1</td>\n",
       "      <td>0</td>\n",
       "      <td>119814.25</td>\n",
       "      <td>1</td>\n",
       "      <td>0</td>\n",
       "    </tr>\n",
       "    <tr>\n",
       "      <th>3109</th>\n",
       "      <td>3110</td>\n",
       "      <td>15735878</td>\n",
       "      <td>850</td>\n",
       "      <td>Germany</td>\n",
       "      <td>47</td>\n",
       "      <td>10.0</td>\n",
       "      <td>134381.52</td>\n",
       "      <td>1</td>\n",
       "      <td>0</td>\n",
       "      <td>0</td>\n",
       "      <td>26812.89</td>\n",
       "      <td>1</td>\n",
       "      <td>0</td>\n",
       "    </tr>\n",
       "    <tr>\n",
       "      <th>4500</th>\n",
       "      <td>4501</td>\n",
       "      <td>15697318</td>\n",
       "      <td>771</td>\n",
       "      <td>Germany</td>\n",
       "      <td>32</td>\n",
       "      <td>9.0</td>\n",
       "      <td>77487.20</td>\n",
       "      <td>1</td>\n",
       "      <td>0</td>\n",
       "      <td>0</td>\n",
       "      <td>33143.04</td>\n",
       "      <td>0</td>\n",
       "      <td>1</td>\n",
       "    </tr>\n",
       "    <tr>\n",
       "      <th>6229</th>\n",
       "      <td>6230</td>\n",
       "      <td>15669741</td>\n",
       "      <td>777</td>\n",
       "      <td>France</td>\n",
       "      <td>36</td>\n",
       "      <td>7.0</td>\n",
       "      <td>0.00</td>\n",
       "      <td>1</td>\n",
       "      <td>1</td>\n",
       "      <td>0</td>\n",
       "      <td>106472.34</td>\n",
       "      <td>0</td>\n",
       "      <td>1</td>\n",
       "    </tr>\n",
       "    <tr>\n",
       "      <th>6913</th>\n",
       "      <td>6914</td>\n",
       "      <td>15784180</td>\n",
       "      <td>564</td>\n",
       "      <td>France</td>\n",
       "      <td>36</td>\n",
       "      <td>7.0</td>\n",
       "      <td>206329.65</td>\n",
       "      <td>1</td>\n",
       "      <td>1</td>\n",
       "      <td>1</td>\n",
       "      <td>46632.87</td>\n",
       "      <td>1</td>\n",
       "      <td>0</td>\n",
       "    </tr>\n",
       "  </tbody>\n",
       "</table>\n",
       "</div>"
      ],
      "text/plain": [
       "      rownumber  customerid  creditscore geography  age  tenure    balance  \\\n",
       "1196       1197    15739131          718   Germany   28     0.0   65643.30   \n",
       "2411       2412    15739502          549   Germany   31     9.0  135020.21   \n",
       "9291       9292    15679804          636    France   36     5.0  117559.05   \n",
       "4130       4131    15731669          554    France   39     2.0  129709.62   \n",
       "6424       6425    15782608          743    France   43     0.0       0.00   \n",
       "3175       3176    15764604          586    France   35     7.0  164769.02   \n",
       "3109       3110    15735878          850   Germany   47    10.0  134381.52   \n",
       "4500       4501    15697318          771   Germany   32     9.0   77487.20   \n",
       "6229       6230    15669741          777    France   36     7.0       0.00   \n",
       "6913       6914    15784180          564    France   36     7.0  206329.65   \n",
       "\n",
       "      numofproducts  hascrcard  isactivemember  estimatedsalary  exited  \\\n",
       "1196              1          1               0         28760.99       0   \n",
       "2411              2          1               1         23343.18       0   \n",
       "9291              2          1               1        111573.30       0   \n",
       "4130              1          1               0        173197.12       0   \n",
       "6424              2          0               0        113079.19       1   \n",
       "3175              3          1               0        119814.25       1   \n",
       "3109              1          0               0         26812.89       1   \n",
       "4500              1          0               0         33143.04       0   \n",
       "6229              1          1               0        106472.34       0   \n",
       "6913              1          1               1         46632.87       1   \n",
       "\n",
       "      gender_Male  \n",
       "1196            1  \n",
       "2411            0  \n",
       "9291            1  \n",
       "4130            1  \n",
       "6424            1  \n",
       "3175            0  \n",
       "3109            0  \n",
       "4500            1  \n",
       "6229            1  \n",
       "6913            0  "
      ]
     },
     "execution_count": 57,
     "metadata": {},
     "output_type": "execute_result"
    }
   ],
   "source": [
    "# preparando os dados\n",
    "# realizando codificação one hot em gender e removendo a primeira coluna, pois sua alta correlação vai confundir o modelo\n",
    "\n",
    "data_ohe = pd.get_dummies(data_noname,columns=[\"gender\"],drop_first=True)\n",
    "data_ohe.sample(10)"
   ]
  },
  {
   "cell_type": "code",
   "execution_count": 58,
   "metadata": {
    "scrolled": true
   },
   "outputs": [
    {
     "data": {
      "text/html": [
       "<div>\n",
       "<style scoped>\n",
       "    .dataframe tbody tr th:only-of-type {\n",
       "        vertical-align: middle;\n",
       "    }\n",
       "\n",
       "    .dataframe tbody tr th {\n",
       "        vertical-align: top;\n",
       "    }\n",
       "\n",
       "    .dataframe thead th {\n",
       "        text-align: right;\n",
       "    }\n",
       "</style>\n",
       "<table border=\"1\" class=\"dataframe\">\n",
       "  <thead>\n",
       "    <tr style=\"text-align: right;\">\n",
       "      <th></th>\n",
       "      <th>rownumber</th>\n",
       "      <th>customerid</th>\n",
       "      <th>creditscore</th>\n",
       "      <th>geography</th>\n",
       "      <th>age</th>\n",
       "      <th>tenure</th>\n",
       "      <th>balance</th>\n",
       "      <th>numofproducts</th>\n",
       "      <th>hascrcard</th>\n",
       "      <th>isactivemember</th>\n",
       "      <th>estimatedsalary</th>\n",
       "      <th>exited</th>\n",
       "      <th>gender_male</th>\n",
       "    </tr>\n",
       "  </thead>\n",
       "  <tbody>\n",
       "    <tr>\n",
       "      <th>8266</th>\n",
       "      <td>8267</td>\n",
       "      <td>15706764</td>\n",
       "      <td>560</td>\n",
       "      <td>0</td>\n",
       "      <td>35</td>\n",
       "      <td>1.0</td>\n",
       "      <td>0.00</td>\n",
       "      <td>2</td>\n",
       "      <td>1</td>\n",
       "      <td>0</td>\n",
       "      <td>3701.63</td>\n",
       "      <td>0</td>\n",
       "      <td>0</td>\n",
       "    </tr>\n",
       "    <tr>\n",
       "      <th>1425</th>\n",
       "      <td>1426</td>\n",
       "      <td>15583668</td>\n",
       "      <td>726</td>\n",
       "      <td>0</td>\n",
       "      <td>42</td>\n",
       "      <td>2.0</td>\n",
       "      <td>109471.79</td>\n",
       "      <td>1</td>\n",
       "      <td>0</td>\n",
       "      <td>1</td>\n",
       "      <td>175161.05</td>\n",
       "      <td>0</td>\n",
       "      <td>0</td>\n",
       "    </tr>\n",
       "    <tr>\n",
       "      <th>7767</th>\n",
       "      <td>7768</td>\n",
       "      <td>15748660</td>\n",
       "      <td>561</td>\n",
       "      <td>1</td>\n",
       "      <td>49</td>\n",
       "      <td>0.0</td>\n",
       "      <td>102025.32</td>\n",
       "      <td>1</td>\n",
       "      <td>1</td>\n",
       "      <td>0</td>\n",
       "      <td>133051.64</td>\n",
       "      <td>1</td>\n",
       "      <td>0</td>\n",
       "    </tr>\n",
       "    <tr>\n",
       "      <th>9694</th>\n",
       "      <td>9695</td>\n",
       "      <td>15659710</td>\n",
       "      <td>581</td>\n",
       "      <td>0</td>\n",
       "      <td>25</td>\n",
       "      <td>5.0</td>\n",
       "      <td>77886.53</td>\n",
       "      <td>2</td>\n",
       "      <td>1</td>\n",
       "      <td>0</td>\n",
       "      <td>150319.49</td>\n",
       "      <td>0</td>\n",
       "      <td>1</td>\n",
       "    </tr>\n",
       "    <tr>\n",
       "      <th>8944</th>\n",
       "      <td>8945</td>\n",
       "      <td>15752312</td>\n",
       "      <td>551</td>\n",
       "      <td>2</td>\n",
       "      <td>49</td>\n",
       "      <td>1.0</td>\n",
       "      <td>150777.72</td>\n",
       "      <td>2</td>\n",
       "      <td>1</td>\n",
       "      <td>1</td>\n",
       "      <td>135757.27</td>\n",
       "      <td>0</td>\n",
       "      <td>1</td>\n",
       "    </tr>\n",
       "    <tr>\n",
       "      <th>8455</th>\n",
       "      <td>8456</td>\n",
       "      <td>15692207</td>\n",
       "      <td>609</td>\n",
       "      <td>0</td>\n",
       "      <td>53</td>\n",
       "      <td>0.0</td>\n",
       "      <td>0.00</td>\n",
       "      <td>2</td>\n",
       "      <td>1</td>\n",
       "      <td>1</td>\n",
       "      <td>124218.27</td>\n",
       "      <td>0</td>\n",
       "      <td>0</td>\n",
       "    </tr>\n",
       "    <tr>\n",
       "      <th>2262</th>\n",
       "      <td>2263</td>\n",
       "      <td>15586264</td>\n",
       "      <td>572</td>\n",
       "      <td>0</td>\n",
       "      <td>43</td>\n",
       "      <td>0.0</td>\n",
       "      <td>140431.98</td>\n",
       "      <td>1</td>\n",
       "      <td>1</td>\n",
       "      <td>0</td>\n",
       "      <td>26450.57</td>\n",
       "      <td>1</td>\n",
       "      <td>1</td>\n",
       "    </tr>\n",
       "    <tr>\n",
       "      <th>1551</th>\n",
       "      <td>1552</td>\n",
       "      <td>15749177</td>\n",
       "      <td>730</td>\n",
       "      <td>2</td>\n",
       "      <td>52</td>\n",
       "      <td>7.0</td>\n",
       "      <td>0.00</td>\n",
       "      <td>2</td>\n",
       "      <td>0</td>\n",
       "      <td>1</td>\n",
       "      <td>122398.84</td>\n",
       "      <td>0</td>\n",
       "      <td>0</td>\n",
       "    </tr>\n",
       "    <tr>\n",
       "      <th>7880</th>\n",
       "      <td>7881</td>\n",
       "      <td>15612418</td>\n",
       "      <td>744</td>\n",
       "      <td>0</td>\n",
       "      <td>38</td>\n",
       "      <td>9.0</td>\n",
       "      <td>0.00</td>\n",
       "      <td>2</td>\n",
       "      <td>0</td>\n",
       "      <td>0</td>\n",
       "      <td>20940.76</td>\n",
       "      <td>0</td>\n",
       "      <td>0</td>\n",
       "    </tr>\n",
       "    <tr>\n",
       "      <th>2515</th>\n",
       "      <td>2516</td>\n",
       "      <td>15744327</td>\n",
       "      <td>564</td>\n",
       "      <td>0</td>\n",
       "      <td>40</td>\n",
       "      <td>4.0</td>\n",
       "      <td>0.00</td>\n",
       "      <td>1</td>\n",
       "      <td>1</td>\n",
       "      <td>0</td>\n",
       "      <td>85455.62</td>\n",
       "      <td>1</td>\n",
       "      <td>1</td>\n",
       "    </tr>\n",
       "  </tbody>\n",
       "</table>\n",
       "</div>"
      ],
      "text/plain": [
       "      rownumber  customerid  creditscore  geography  age  tenure    balance  \\\n",
       "8266       8267    15706764          560          0   35     1.0       0.00   \n",
       "1425       1426    15583668          726          0   42     2.0  109471.79   \n",
       "7767       7768    15748660          561          1   49     0.0  102025.32   \n",
       "9694       9695    15659710          581          0   25     5.0   77886.53   \n",
       "8944       8945    15752312          551          2   49     1.0  150777.72   \n",
       "8455       8456    15692207          609          0   53     0.0       0.00   \n",
       "2262       2263    15586264          572          0   43     0.0  140431.98   \n",
       "1551       1552    15749177          730          2   52     7.0       0.00   \n",
       "7880       7881    15612418          744          0   38     9.0       0.00   \n",
       "2515       2516    15744327          564          0   40     4.0       0.00   \n",
       "\n",
       "      numofproducts  hascrcard  isactivemember  estimatedsalary  exited  \\\n",
       "8266              2          1               0          3701.63       0   \n",
       "1425              1          0               1        175161.05       0   \n",
       "7767              1          1               0        133051.64       1   \n",
       "9694              2          1               0        150319.49       0   \n",
       "8944              2          1               1        135757.27       0   \n",
       "8455              2          1               1        124218.27       0   \n",
       "2262              1          1               0         26450.57       1   \n",
       "1551              2          0               1        122398.84       0   \n",
       "7880              2          0               0         20940.76       0   \n",
       "2515              1          1               0         85455.62       1   \n",
       "\n",
       "      gender_male  \n",
       "8266            0  \n",
       "1425            0  \n",
       "7767            0  \n",
       "9694            1  \n",
       "8944            1  \n",
       "8455            0  \n",
       "2262            1  \n",
       "1551            0  \n",
       "7880            0  \n",
       "2515            1  "
      ]
     },
     "execution_count": 58,
     "metadata": {},
     "output_type": "execute_result"
    }
   ],
   "source": [
    "# preparando os dados\n",
    "# realizando codificação de rótulos em geography sem ordenamento, pois países não seguem uma ordem em particular\n",
    "from sklearn.preprocessing import LabelEncoder\n",
    "\n",
    "encoder = LabelEncoder()\n",
    "data_ohe[\"geography\"] = encoder.fit_transform(data_ohe[\"geography\"])\n",
    "data_ohe = data_ohe.rename(columns={\"gender_Male\":\"gender_male\"})\n",
    "data_ohe.sample(10)"
   ]
  },
  {
   "cell_type": "code",
   "execution_count": 59,
   "metadata": {
    "scrolled": true
   },
   "outputs": [],
   "source": [
    "# preparando os dados para treinamento, separando caracteristicas de objetivo\n",
    "# removendo das caracteristicas o rownumber a customerid pois não sao realmente caracteristicas, apenas identificadores\n",
    "target = data_ohe[\"exited\"]\n",
    "features = data_ohe.drop([\"exited\",\"customerid\",\"rownumber\"],axis=1)"
   ]
  },
  {
   "cell_type": "code",
   "execution_count": 60,
   "metadata": {},
   "outputs": [],
   "source": [
    "# separando em um conjunto de treinamento e outro de teste\n",
    "\n",
    "features_train, features_valid, target_train, target_valid = train_test_split(features,target, test_size=.25, random_state=12345)"
   ]
  },
  {
   "cell_type": "code",
   "execution_count": 61,
   "metadata": {},
   "outputs": [
    {
     "name": "stderr",
     "output_type": "stream",
     "text": [
      "/tmp/ipykernel_103/439256887.py:9: SettingWithCopyWarning: \n",
      "A value is trying to be set on a copy of a slice from a DataFrame.\n",
      "Try using .loc[row_indexer,col_indexer] = value instead\n",
      "\n",
      "See the caveats in the documentation: https://pandas.pydata.org/pandas-docs/stable/user_guide/indexing.html#returning-a-view-versus-a-copy\n",
      "  features_train[numeric] = scaler.transform(features_train[numeric])\n",
      "/opt/conda/envs/python3/lib/python3.9/site-packages/pandas/core/indexing.py:1738: SettingWithCopyWarning: \n",
      "A value is trying to be set on a copy of a slice from a DataFrame.\n",
      "Try using .loc[row_indexer,col_indexer] = value instead\n",
      "\n",
      "See the caveats in the documentation: https://pandas.pydata.org/pandas-docs/stable/user_guide/indexing.html#returning-a-view-versus-a-copy\n",
      "  self._setitem_single_column(loc, value[:, i].tolist(), pi)\n",
      "/tmp/ipykernel_103/439256887.py:10: SettingWithCopyWarning: \n",
      "A value is trying to be set on a copy of a slice from a DataFrame.\n",
      "Try using .loc[row_indexer,col_indexer] = value instead\n",
      "\n",
      "See the caveats in the documentation: https://pandas.pydata.org/pandas-docs/stable/user_guide/indexing.html#returning-a-view-versus-a-copy\n",
      "  features_valid[numeric] = scaler.transform(features_valid[numeric])\n",
      "/opt/conda/envs/python3/lib/python3.9/site-packages/pandas/core/indexing.py:1738: SettingWithCopyWarning: \n",
      "A value is trying to be set on a copy of a slice from a DataFrame.\n",
      "Try using .loc[row_indexer,col_indexer] = value instead\n",
      "\n",
      "See the caveats in the documentation: https://pandas.pydata.org/pandas-docs/stable/user_guide/indexing.html#returning-a-view-versus-a-copy\n",
      "  self._setitem_single_column(loc, value[:, i].tolist(), pi)\n"
     ]
    }
   ],
   "source": [
    "# escalando as características\n",
    "from sklearn.preprocessing import StandardScaler\n",
    "\n",
    "numeric = ['creditscore','age','tenure','balance','numofproducts','estimatedsalary']\n",
    "\n",
    "scaler = StandardScaler()\n",
    "scaler.fit(features_train[numeric])\n",
    "\n",
    "features_train[numeric] = scaler.transform(features_train[numeric])\n",
    "features_valid[numeric] = scaler.transform(features_valid[numeric])"
   ]
  },
  {
   "cell_type": "code",
   "execution_count": 62,
   "metadata": {},
   "outputs": [
    {
     "name": "stdout",
     "output_type": "stream",
     "text": [
      "0.5337915234822451\n"
     ]
    }
   ],
   "source": [
    "# treinando modelos sem considerar o balanceamento - Arvore de Decisão\n",
    "\n",
    "# instanciando o modelo\n",
    "treemodel = DecisionTreeClassifier(random_state=12345, max_depth=10)\n",
    "\n",
    "# treinando o modelo\n",
    "treemodel.fit(features_train,target_train)\n",
    "\n",
    "# testando previsões conjunto de validação\n",
    "tree_prediction_valid = treemodel.predict(features_valid)\n",
    "\n",
    "# calculando f1 score\n",
    "f1tree = f1_score(target_valid,tree_prediction_valid)\n",
    "print(f1tree)"
   ]
  },
  {
   "cell_type": "code",
   "execution_count": 63,
   "metadata": {},
   "outputs": [
    {
     "name": "stdout",
     "output_type": "stream",
     "text": [
      "0.5611510791366907\n"
     ]
    }
   ],
   "source": [
    "# treinando modelos sem considerar o balanceamento - Floresta Aleatória\n",
    "\n",
    "# Instanciando o modelo\n",
    "rfmodel = RandomForestClassifier(random_state=12345, n_estimators=50)\n",
    "\n",
    "# treinando o modelo\n",
    "rfmodel.fit(features_train,target_train)\n",
    "\n",
    "# testando previsões conjunto de validação\n",
    "rf_prediction_valid = rfmodel.predict(features_valid)\n",
    "\n",
    "# calculando f1 score\n",
    "f1forest = f1_score(target_valid,rf_prediction_valid)\n",
    "print(f1forest)"
   ]
  },
  {
   "cell_type": "code",
   "execution_count": 64,
   "metadata": {},
   "outputs": [
    {
     "name": "stdout",
     "output_type": "stream",
     "text": [
      "0.2647058823529412\n"
     ]
    }
   ],
   "source": [
    "# treinando modelos sem considerar o balanceamento - Regressão logística\n",
    "\n",
    "# Instanciando o modelo\n",
    "lrmodel = LogisticRegression(random_state=12345, solver='liblinear')\n",
    "\n",
    "# treinando o modelo\n",
    "lrmodel.fit(features_train,target_train)\n",
    "\n",
    "# testando previsões conjunto de validação\n",
    "lr_prediction_valid = lrmodel.predict(features_valid)\n",
    "\n",
    "# calculando f1 score\n",
    "f1lr = f1_score(target_valid,lr_prediction_valid)\n",
    "print(f1lr)"
   ]
  },
  {
   "cell_type": "markdown",
   "metadata": {},
   "source": [
    "Conclusion - Training the models without balancing yields results that are only slightly better than a random model with a 50% chance of being correct. We obtained an F1-score of 0.53 for the Decision Tree, 0.56 for the Random Forest, and 0.26 for Logistic Regression."
   ]
  },
  {
   "cell_type": "code",
   "execution_count": 66,
   "metadata": {
    "scrolled": true
   },
   "outputs": [
    {
     "name": "stdout",
     "output_type": "stream",
     "text": [
      "0    0.7963\n",
      "1    0.2037\n",
      "Name: exited, dtype: float64\n"
     ]
    },
    {
     "data": {
      "text/plain": [
       "<AxesSubplot:>"
      ]
     },
     "execution_count": 66,
     "metadata": {},
     "output_type": "execute_result"
    },
    {
     "data": {
      "image/png": "[encoded data removed]",
      "text/plain": [
       "<Figure size 640x480 with 1 Axes>"
      ]
     },
     "metadata": {},
     "output_type": "display_data"
    }
   ],
   "source": [
    "# analisando o balanceamento / frequências de classe\n",
    "\n",
    "class_frequency = data_ohe[\"exited\"].value_counts(normalize=True)\n",
    "print(class_frequency)\n",
    "class_frequency.plot(\n",
    "    kind=\"bar\"\n",
    ")"
   ]
  },
  {
   "cell_type": "markdown",
   "metadata": {},
   "source": [
    "Conclusion - we have many more customers that are not churved (exited = 0). We need to class balancing"
   ]
  },
  {
   "cell_type": "code",
   "execution_count": 67,
   "metadata": {},
   "outputs": [
    {
     "name": "stdout",
     "output_type": "stream",
     "text": [
      "0.7963\n"
     ]
    }
   ],
   "source": [
    "# comparando os modelos desbalanceados com um modelo constante de valor 0 (exited = 0)\n",
    "\n",
    "target_pred_constant = pd.Series(0,index=target.index)\n",
    "print(accuracy_score(target,target_pred_constant))"
   ]
  },
  {
   "cell_type": "markdown",
   "metadata": {},
   "source": [
    "Conclusion - Our unbalanced models perform poorly because if we predicted 0 for every observation, we would have an accuracy of 80%, which is much higher than our models. This result indicates that the models are not capturing significant patterns in the data."
   ]
  },
  {
   "cell_type": "code",
   "execution_count": 68,
   "metadata": {},
   "outputs": [
    {
     "name": "stdout",
     "output_type": "stream",
     "text": [
      "[[1860  105]\n",
      " [ 302  233]]\n",
      "Sensibilidade: 0.4355140186915888\n",
      "Precisão: 0.6893491124260355\n",
      "f1: 0.5337915234822451\n"
     ]
    }
   ],
   "source": [
    "# criando uma matriz de confusão avaliando as métricas - Arvore de decisão\n",
    "\n",
    "print(confusion_matrix(target_valid,tree_prediction_valid))\n",
    "print(\"Sensibilidade:\", recall_score(target_valid,tree_prediction_valid))\n",
    "print(\"Precisão:\",precision_score(target_valid,tree_prediction_valid))\n",
    "print(\"f1:\", f1_score(target_valid,tree_prediction_valid))"
   ]
  },
  {
   "cell_type": "markdown",
   "metadata": {},
   "source": [
    "Conclusion: The unbalanced Decision Tree model has a precision of 0.69 but a recall of 0.44, resulting in an F1-score of 0.53. The model has a high number of false negatives (302) and false positives (102)."
   ]
  },
  {
   "cell_type": "code",
   "execution_count": 69,
   "metadata": {},
   "outputs": [
    {
     "name": "stdout",
     "output_type": "stream",
     "text": [
      "[[1900   65]\n",
      " [ 301  234]]\n",
      "Sensibilidade: 0.4373831775700935\n",
      "Precisão: 0.782608695652174\n",
      "f1: 0.5611510791366907\n"
     ]
    }
   ],
   "source": [
    "# criando uma matriz de confusão avaliando as métricas - Floresta Aleatória\n",
    "\n",
    "print(confusion_matrix(target_valid,rf_prediction_valid))\n",
    "print(\"Sensibilidade:\", recall_score(target_valid,rf_prediction_valid))\n",
    "print(\"Precisão:\",precision_score(target_valid,rf_prediction_valid))\n",
    "print(\"f1:\", f1_score(target_valid,rf_prediction_valid))"
   ]
  },
  {
   "cell_type": "markdown",
   "metadata": {},
   "source": [
    "\n",
    "Conclusion: The unbalanced Random Forest model has a precision of 0.78 but a recall of 0.44, resulting in an F1-score of 0.56. The model has a high number of false negatives (301) and false positives (65)."
   ]
  },
  {
   "cell_type": "code",
   "execution_count": 70,
   "metadata": {},
   "outputs": [
    {
     "name": "stdout",
     "output_type": "stream",
     "text": [
      "[[1910   55]\n",
      " [ 445   90]]\n",
      "Sensibilidade: 0.16822429906542055\n",
      "Precisão: 0.6206896551724138\n",
      "f1: 0.2647058823529412\n"
     ]
    }
   ],
   "source": [
    "# criando uma matriz de confusão avaliando as métricas - Regressão Logística\n",
    "\n",
    "print(confusion_matrix(target_valid,lr_prediction_valid))\n",
    "print(\"Sensibilidade:\", recall_score(target_valid,lr_prediction_valid))\n",
    "print(\"Precisão:\",precision_score(target_valid,lr_prediction_valid))\n",
    "print(\"f1:\", f1_score(target_valid,lr_prediction_valid))"
   ]
  },
  {
   "cell_type": "markdown",
   "metadata": {},
   "source": [
    "Conclusion: The unbalanced Logistic Regression model has a precision of 0.62 but a recall of 0.17, resulting in an F1-score of 0.26. The model has a high number of false negatives (445) and false positives (55)."
   ]
  },
  {
   "cell_type": "code",
   "execution_count": 71,
   "metadata": {},
   "outputs": [
    {
     "name": "stdout",
     "output_type": "stream",
     "text": [
      "(21018, 10)\n",
      "(21018,)\n"
     ]
    }
   ],
   "source": [
    "# realizando superamostragem de exited=1 pois temos poucas observações destes casos\n",
    "\n",
    "def upsample(features, target, repeat):\n",
    "    features_zeros = features[target == 0]\n",
    "    features_ones = features[target == 1]\n",
    "    target_zeros = target[target == 0]\n",
    "    target_ones = target[target == 1]\n",
    "   \n",
    "    features_train_upsampled = pd.concat([features_zeros] + [features_ones] * repeat)\n",
    "    target_train_upsampled = pd.concat([target_zeros] + [target_ones] * repeat)\n",
    "\n",
    "    features_train_upsampled, target_train_upsampled = shuffle(features_upsampled, target_upsampled, random_state=12345)\n",
    "    return features_train_upsampled, target_train_upsampled\n",
    "    \n",
    "features_train_upsampled, target_train_upsampled = upsample(features_train, target_train, 10)\n",
    "\n",
    "print(features_train_upsampled.shape)\n",
    "print(target_train_upsampled.shape)"
   ]
  },
  {
   "cell_type": "code",
   "execution_count": 72,
   "metadata": {},
   "outputs": [
    {
     "name": "stdout",
     "output_type": "stream",
     "text": [
      "0.547112462006079\n"
     ]
    }
   ],
   "source": [
    "# rodando modelo de árvore, agora com superamostragem e balanceamento\n",
    "\n",
    "# instanciando o modelo\n",
    "treemodel = DecisionTreeClassifier(random_state=12345, max_depth=10, class_weight='balanced')\n",
    "\n",
    "# treinando o modelo\n",
    "treemodel.fit(features_train_upsampled,target_train_upsampled)\n",
    "\n",
    "# testando previsões conjunto de validação\n",
    "tree_prediction_valid = treemodel.predict(features_valid)\n",
    "\n",
    "# calculando f1 score\n",
    "f1tree = f1_score(target_valid,tree_prediction_valid)\n",
    "print(f1tree)"
   ]
  },
  {
   "cell_type": "code",
   "execution_count": 73,
   "metadata": {},
   "outputs": [
    {
     "name": "stdout",
     "output_type": "stream",
     "text": [
      "0.5985699693564862\n"
     ]
    }
   ],
   "source": [
    "# rodando modelo de floresta, agora com superamostragem e balanceamento\n",
    "\n",
    "# Instanciando o modelo\n",
    "rfmodel = RandomForestClassifier(random_state=12345, n_estimators=50, class_weight=\"balanced\")\n",
    "\n",
    "# treinando o modelo\n",
    "rfmodel.fit(features_train_upsampled,target_train_upsampled)\n",
    "\n",
    "# testando previsões conjunto de validação\n",
    "rf_prediction_valid = rfmodel.predict(features_valid)\n",
    "\n",
    "# calculando f1 score\n",
    "f1forest = f1_score(target_valid,rf_prediction_valid)\n",
    "print(f1forest)"
   ]
  },
  {
   "cell_type": "code",
   "execution_count": 74,
   "metadata": {},
   "outputs": [
    {
     "name": "stdout",
     "output_type": "stream",
     "text": [
      "0.4853723404255319\n"
     ]
    }
   ],
   "source": [
    "# rodando modelo de regressão logística, agora com superamostragem e balanceamento\n",
    "\n",
    "# Instanciando o modelo\n",
    "lrmodel = LogisticRegression(random_state=12345, solver='liblinear', class_weight='balanced')\n",
    "\n",
    "# treinando o modelo\n",
    "lrmodel.fit(features_train_upsampled,target_train_upsampled)\n",
    "\n",
    "# testando previsões conjunto de validação\n",
    "lr_prediction_valid = lrmodel.predict(features_valid)\n",
    "\n",
    "# calculando f1 score\n",
    "f1lr = f1_score(target_valid,lr_prediction_valid)\n",
    "print(f1lr)"
   ]
  },
  {
   "cell_type": "markdown",
   "metadata": {},
   "source": [
    "\n",
    "Conclusion: Balancing and oversampling improved the F1-score for all models"
   ]
  },
  {
   "cell_type": "code",
   "execution_count": 75,
   "metadata": {},
   "outputs": [
    {
     "name": "stdout",
     "output_type": "stream",
     "text": [
      "Best Parameters:  {'class_weight': 'balanced', 'criterion': 'gini', 'max_depth': 15, 'min_samples_leaf': 1, 'min_samples_split': 5}\n",
      "Best Score:  0.9613754923421312\n"
     ]
    }
   ],
   "source": [
    "# otimizando hiperparâmetros do modelo de árvore\n",
    "\n",
    "# importando gridsearch\n",
    "from sklearn.model_selection import GridSearchCV\n",
    "\n",
    "# Definindo os hiperparametros\n",
    "param_grid = {\n",
    "    'min_samples_split': [2, 5, 10],\n",
    "    'min_samples_leaf': [1, 5, 10],\n",
    "    'criterion': ['gini', 'entropy'],\n",
    "    'max_depth': [2,5,7,10,15],\n",
    "    'class_weight':[\"balanced\"]\n",
    "}\n",
    "\n",
    "# Instanciando o modelo\n",
    "dtc = DecisionTreeClassifier()\n",
    "\n",
    "# instanciando o GridSearchCV\n",
    "grid_search = GridSearchCV(estimator=dtc, param_grid=param_grid, cv=5, scoring='f1')\n",
    "\n",
    "# Fazendo o fit\n",
    "grid_search.fit(features_train_upsampled, target_train_upsampled)\n",
    "\n",
    "# coletando resultados\n",
    "print(\"Best Parameters: \", grid_search.best_params_)\n",
    "print(\"Best Score: \", grid_search.best_score_)"
   ]
  },
  {
   "cell_type": "code",
   "execution_count": 76,
   "metadata": {},
   "outputs": [
    {
     "name": "stdout",
     "output_type": "stream",
     "text": [
      "0.5137777777777779\n"
     ]
    }
   ],
   "source": [
    "# rodando modelo de árvore, agora com superamostragem e balanceamento e hiperparâmetros otimizados\n",
    "\n",
    "# instanciando o modelo\n",
    "treemodel = DecisionTreeClassifier(random_state=12345, criterion=\"gini\",max_depth=15, min_samples_leaf=1, min_samples_split=5, class_weight='balanced')\n",
    "\n",
    "# treinando o modelo\n",
    "treemodel.fit(features_train_upsampled,target_train_upsampled)\n",
    "\n",
    "# testando previsões conjunto de validação\n",
    "tree_prediction_valid = treemodel.predict(features_valid)\n",
    "\n",
    "# calculando f1 score\n",
    "f1tree = f1_score(target_valid,tree_prediction_valid)\n",
    "print(f1tree)"
   ]
  },
  {
   "cell_type": "code",
   "execution_count": 77,
   "metadata": {},
   "outputs": [
    {
     "name": "stdout",
     "output_type": "stream",
     "text": [
      "Best Parameters:  {'class_weight': 'balanced', 'max_depth': 15, 'max_features': 'log2', 'min_samples_leaf': 1, 'min_samples_split': 5, 'n_estimators': 100}\n",
      "Best Score:  0.9794275006890614\n"
     ]
    }
   ],
   "source": [
    "# otimizando hiperparâmetros do modelo de floresta\n",
    "\n",
    "# Definindo os hiperparametros\n",
    "param_grid = {\n",
    "    'max_features': ['auto', 'sqrt', 'log2'],\n",
    "    'min_samples_split': [2, 5, 10],\n",
    "    'min_samples_leaf': [1, 5, 10],\n",
    "    'n_estimators':[50, 60, 70, 80, 100],\n",
    "    'max_depth':[2,5,7,10,15],\n",
    "    'class_weight':[\"balanced\"]\n",
    "}\n",
    "\n",
    "# Instanciando o modelo\n",
    "rfc = RandomForestClassifier()\n",
    "\n",
    "# instanciando o GridSearchCV\n",
    "rfcgrid_search = GridSearchCV(estimator=rfc, param_grid=param_grid, cv=5, scoring='f1')\n",
    "\n",
    "# treinando o modelo\n",
    "rfcgrid_search.fit(features_train_upsampled, target_train_upsampled)\n",
    "\n",
    "# coletando resultados\n",
    "print(\"Best Parameters: \", rfcgrid_search.best_params_)\n",
    "print(\"Best Score: \", rfcgrid_search.best_score_)"
   ]
  },
  {
   "cell_type": "code",
   "execution_count": 78,
   "metadata": {},
   "outputs": [
    {
     "name": "stdout",
     "output_type": "stream",
     "text": [
      "0.6089494163424125\n"
     ]
    }
   ],
   "source": [
    "# rodando modelo de floresta, agora com superamostragem e balanceamento e hiperparametros otimizados\n",
    "\n",
    "# Instanciando o modelo\n",
    "rfmodel = RandomForestClassifier(random_state=12345, n_estimators=100, class_weight=\"balanced\", max_depth=15, max_features=\"log2\",min_samples_leaf=1, min_samples_split=5)\n",
    "\n",
    "# treinando o modelo\n",
    "rfmodel.fit(features_train_upsampled,target_train_upsampled)\n",
    "\n",
    "# testando previsões conjunto de validação\n",
    "rf_prediction_valid = rfmodel.predict(features_valid)\n",
    "\n",
    "# calculando f1 score\n",
    "f1forest = f1_score(target_valid,rf_prediction_valid)\n",
    "print(f1forest)"
   ]
  },
  {
   "cell_type": "code",
   "execution_count": 79,
   "metadata": {},
   "outputs": [
    {
     "name": "stdout",
     "output_type": "stream",
     "text": [
      "Best Parameters:  {'C': 0.1, 'class_weight': 'balanced', 'max_iter': 100, 'penalty': 'l1', 'solver': 'saga'}\n",
      "Best Score:  0.758086619077775\n"
     ]
    }
   ],
   "source": [
    "# otimizando hiperparâmetros do modelo de regressão\n",
    "\n",
    "# Definindo os hiperparametros\n",
    "param_grid = {\n",
    "    'C': [0.1, 1, 5, 10],\n",
    "    'penalty': ['l1', 'l2'],\n",
    "    'max_iter': [100, 500, 1000],\n",
    "    'solver':['liblinear','saga'],\n",
    "    'class_weight':['balanced']\n",
    "}\n",
    "\n",
    "# Instanciando o modelo\n",
    "lr = LogisticRegression()\n",
    "\n",
    "# instanciando o GridSearchCV\n",
    "lrgrid_search = GridSearchCV(estimator=lr, param_grid=param_grid, cv=5, scoring='f1')\n",
    "\n",
    "# treinando o modelo\n",
    "lrgrid_search.fit(features_train_upsampled, target_train_upsampled)\n",
    "\n",
    "# coletando resultados\n",
    "print(\"Best Parameters: \", lrgrid_search.best_params_)\n",
    "print(\"Best Score: \", lrgrid_search.best_score_)"
   ]
  },
  {
   "cell_type": "code",
   "execution_count": 84,
   "metadata": {},
   "outputs": [
    {
     "name": "stdout",
     "output_type": "stream",
     "text": [
      "0.4873837981407703\n"
     ]
    }
   ],
   "source": [
    "# rodando modelo de regressão logística, agora com superamostragem e balanceamento e hiperparametros otimizados\n",
    "\n",
    "# Instanciando o modelo\n",
    "lrmodel = LogisticRegression(random_state=12345, solver='saga', class_weight='balanced', C=0.1, max_iter=100, penalty='l1')\n",
    "\n",
    "# treinando o modelo\n",
    "lrmodel.fit(features_train_upsampled,target_train_upsampled)\n",
    "\n",
    "# testando previsões conjunto de validação\n",
    "lr_prediction_valid = lrmodel.predict(features_valid)\n",
    "\n",
    "# calculando f1 score\n",
    "f1lr = f1_score(target_valid,lr_prediction_valid)\n",
    "print(f1lr)"
   ]
  },
  {
   "cell_type": "code",
   "execution_count": 85,
   "metadata": {},
   "outputs": [
    {
     "data": {
      "image/png": "[encoded data removed]",
      "text/plain": [
       "<Figure size 640x480 with 1 Axes>"
      ]
     },
     "metadata": {},
     "output_type": "display_data"
    },
    {
     "name": "stdout",
     "output_type": "stream",
     "text": [
      "AUC-ROC Árvore: 0.6909395733751873\n"
     ]
    }
   ],
   "source": [
    "# curva ROC e AUC-ROC score\n",
    "\n",
    "# modelo de árvore\n",
    "\n",
    "probabilities_valid = treemodel.predict_proba(features_valid)\n",
    "probabilities_one_valid = probabilities_valid[:, 1]\n",
    "\n",
    "fpr, tpr, thresholds = roc_curve(target_valid,probabilities_one_valid)\n",
    "\n",
    "plt.figure()\n",
    "plt.plot(fpr, tpr)\n",
    "plt.plot([0, 1], [0, 1], linestyle='--')\n",
    "plt.xlim([0.0, 1.0])\n",
    "plt.ylim([0.0, 1.0])\n",
    "plt.xlabel('Taxa de Falsos Positivos')\n",
    "plt.ylabel('Taxa de Verdadeiros Positivos')\n",
    "plt.title('Curva ROC - Modelo de Árvore')\n",
    "plt.show()\n",
    "\n",
    "auc_roc = roc_auc_score(target_valid,probabilities_one_valid)\n",
    "\n",
    "print(\"AUC-ROC Árvore:\",auc_roc)"
   ]
  },
  {
   "cell_type": "code",
   "execution_count": 86,
   "metadata": {},
   "outputs": [
    {
     "data": {
      "image/png": "[encoded data removed]",
      "text/plain": [
       "<Figure size 640x480 with 1 Axes>"
      ]
     },
     "metadata": {},
     "output_type": "display_data"
    },
    {
     "name": "stdout",
     "output_type": "stream",
     "text": [
      "AUC_ROC Floresta: 0.8520701053482675\n"
     ]
    }
   ],
   "source": [
    "# curva ROC e AUC-ROC score\n",
    "\n",
    "# modelo de floresta\n",
    "\n",
    "probabilities_valid = rfmodel.predict_proba(features_valid)\n",
    "probabilities_one_valid = probabilities_valid[:, 1]\n",
    "\n",
    "fpr, tpr, thresholds = roc_curve(target_valid,probabilities_one_valid)\n",
    "\n",
    "plt.figure()\n",
    "plt.plot(fpr, tpr)\n",
    "plt.plot([0, 1], [0, 1], linestyle='--')\n",
    "plt.xlim([0.0, 1.0])\n",
    "plt.ylim([0.0, 1.0])\n",
    "plt.xlabel('Taxa de Falsos Positivos')\n",
    "plt.ylabel('Taxa de Verdadeiros Positivos')\n",
    "plt.title('Curva ROC - Modelo de Floresta')\n",
    "plt.show()\n",
    "\n",
    "auc_roc = roc_auc_score(target_valid,probabilities_one_valid)\n",
    "\n",
    "print(\"AUC_ROC Floresta:\",auc_roc)"
   ]
  },
  {
   "cell_type": "code",
   "execution_count": 87,
   "metadata": {
    "scrolled": true
   },
   "outputs": [
    {
     "data": {
      "image/png": "[encoded data removed]",
      "text/plain": [
       "<Figure size 640x480 with 1 Axes>"
      ]
     },
     "metadata": {},
     "output_type": "display_data"
    },
    {
     "name": "stdout",
     "output_type": "stream",
     "text": [
      "AUC_ROC Regressão Logística: 0.7549185512829658\n"
     ]
    }
   ],
   "source": [
    "# curva ROC e AUC-ROC score\n",
    "\n",
    "# modelo de regressão logística\n",
    "\n",
    "probabilities_valid = lrmodel.predict_proba(features_valid)\n",
    "probabilities_one_valid = probabilities_valid[:, 1]\n",
    "\n",
    "fpr, tpr, thresholds = roc_curve(target_valid,probabilities_one_valid)\n",
    "\n",
    "plt.figure()\n",
    "plt.plot(fpr, tpr)\n",
    "plt.plot([0, 1], [0, 1], linestyle='--')\n",
    "plt.xlim([0.0, 1.0])\n",
    "plt.ylim([0.0, 1.0])\n",
    "plt.xlabel('Taxa de Falsos Positivos')\n",
    "plt.ylabel('Taxa de Verdadeiros Positivos')\n",
    "plt.title('Curva ROC - Modelo de Regressão Logística')\n",
    "plt.show()\n",
    "\n",
    "auc_roc = roc_auc_score(target_valid,probabilities_one_valid)\n",
    "\n",
    "print(\"AUC_ROC Regressão Logística:\",auc_roc)"
   ]
  },
  {
   "cell_type": "markdown",
   "metadata": {},
   "source": [
    "Conclusions:\n",
    "- The balanced Random Forest model, with oversampling and optimized hyperparameters, achieved an F1-score of 0.61.\n",
    "- Since the F1-scores on the training set are considerably higher than on the test set, we can infer that the model is overfitting.\n",
    "- Interestingly, for the Decision Tree model, after balancing, oversampling, and hyperparameter tuning, the F1-score actually decreased."
   ]
  }
 ],
 "metadata": {
  "ExecuteTimeLog": [
   {
    "duration": 439,
    "start_time": "2024-07-11T22:42:56.851Z"
   },
   {
    "duration": 38,
    "start_time": "2024-07-11T22:45:26.542Z"
   },
   {
    "duration": 29,
    "start_time": "2024-07-11T22:45:27.901Z"
   },
   {
    "duration": 19,
    "start_time": "2024-07-11T22:45:39.398Z"
   },
   {
    "duration": 21,
    "start_time": "2024-07-11T22:48:53.416Z"
   },
   {
    "duration": 6,
    "start_time": "2024-07-11T22:49:07.074Z"
   },
   {
    "duration": 5037,
    "start_time": "2024-07-11T22:58:30.351Z"
   },
   {
    "duration": 29,
    "start_time": "2024-07-11T22:59:18.080Z"
   },
   {
    "duration": 32,
    "start_time": "2024-07-11T22:59:44.069Z"
   },
   {
    "duration": 119,
    "start_time": "2024-07-11T23:02:02.332Z"
   },
   {
    "duration": 11,
    "start_time": "2024-07-11T23:02:36.141Z"
   },
   {
    "duration": 117,
    "start_time": "2024-07-11T23:02:45.403Z"
   },
   {
    "duration": 22,
    "start_time": "2024-07-11T23:05:15.066Z"
   },
   {
    "duration": 5,
    "start_time": "2024-07-11T23:05:21.638Z"
   },
   {
    "duration": 29,
    "start_time": "2024-07-11T23:06:01.424Z"
   },
   {
    "duration": 8,
    "start_time": "2024-07-11T23:06:04.722Z"
   },
   {
    "duration": 32,
    "start_time": "2024-07-11T23:06:06.135Z"
   },
   {
    "duration": 26,
    "start_time": "2024-07-11T23:06:26.270Z"
   },
   {
    "duration": 28,
    "start_time": "2024-07-11T23:06:35.953Z"
   },
   {
    "duration": 9,
    "start_time": "2024-07-11T23:07:25.506Z"
   },
   {
    "duration": 7,
    "start_time": "2024-07-11T23:07:27.867Z"
   },
   {
    "duration": 27,
    "start_time": "2024-07-11T23:08:40.393Z"
   },
   {
    "duration": 28,
    "start_time": "2024-07-11T23:09:44.016Z"
   },
   {
    "duration": 5,
    "start_time": "2024-07-11T23:14:32.444Z"
   },
   {
    "duration": 24,
    "start_time": "2024-07-11T23:14:32.453Z"
   },
   {
    "duration": 21,
    "start_time": "2024-07-11T23:14:32.481Z"
   },
   {
    "duration": 19,
    "start_time": "2024-07-11T23:14:32.505Z"
   },
   {
    "duration": 5,
    "start_time": "2024-07-11T23:14:32.528Z"
   },
   {
    "duration": 6,
    "start_time": "2024-07-11T23:14:32.536Z"
   },
   {
    "duration": 4,
    "start_time": "2024-07-11T23:14:32.545Z"
   },
   {
    "duration": 5,
    "start_time": "2024-07-11T23:14:32.553Z"
   },
   {
    "duration": 27,
    "start_time": "2024-07-11T23:14:32.609Z"
   },
   {
    "duration": 6,
    "start_time": "2024-07-11T23:15:54.614Z"
   },
   {
    "duration": 408,
    "start_time": "2024-07-11T23:17:32.644Z"
   },
   {
    "duration": 1165,
    "start_time": "2024-07-11T23:20:11.574Z"
   },
   {
    "duration": 12,
    "start_time": "2024-07-11T23:21:57.038Z"
   },
   {
    "duration": 121,
    "start_time": "2024-07-11T23:22:11.708Z"
   },
   {
    "duration": 21,
    "start_time": "2024-07-11T23:22:26.644Z"
   },
   {
    "duration": 10,
    "start_time": "2024-07-11T23:22:35.236Z"
   },
   {
    "duration": 9,
    "start_time": "2024-07-11T23:24:02.990Z"
   },
   {
    "duration": 10,
    "start_time": "2024-07-11T23:24:44.728Z"
   },
   {
    "duration": 124,
    "start_time": "2024-07-11T23:25:16.726Z"
   },
   {
    "duration": 120,
    "start_time": "2024-07-11T23:25:40.028Z"
   },
   {
    "duration": 5,
    "start_time": "2024-07-11T23:27:17.240Z"
   },
   {
    "duration": 25,
    "start_time": "2024-07-11T23:28:25.980Z"
   },
   {
    "duration": 23,
    "start_time": "2024-07-11T23:28:37.796Z"
   },
   {
    "duration": 23,
    "start_time": "2024-07-12T00:37:22.556Z"
   },
   {
    "duration": 9,
    "start_time": "2024-07-12T00:37:54.466Z"
   },
   {
    "duration": 19,
    "start_time": "2024-07-12T00:38:05.684Z"
   },
   {
    "duration": 913,
    "start_time": "2024-07-12T14:30:02.035Z"
   },
   {
    "duration": 191,
    "start_time": "2024-07-12T14:30:09.369Z"
   },
   {
    "duration": 4,
    "start_time": "2024-07-12T14:34:57.788Z"
   },
   {
    "duration": 5,
    "start_time": "2024-07-12T14:40:14.380Z"
   },
   {
    "duration": 8,
    "start_time": "2024-07-12T14:45:48.179Z"
   },
   {
    "duration": 32,
    "start_time": "2024-07-12T14:45:50.410Z"
   },
   {
    "duration": 257,
    "start_time": "2024-07-12T14:46:26.845Z"
   },
   {
    "duration": 5,
    "start_time": "2024-07-12T14:47:02.782Z"
   },
   {
    "duration": 27,
    "start_time": "2024-07-12T14:47:02.791Z"
   },
   {
    "duration": 22,
    "start_time": "2024-07-12T14:47:02.821Z"
   },
   {
    "duration": 16,
    "start_time": "2024-07-12T14:47:02.847Z"
   },
   {
    "duration": 4,
    "start_time": "2024-07-12T14:47:02.867Z"
   },
   {
    "duration": 13,
    "start_time": "2024-07-12T14:47:02.930Z"
   },
   {
    "duration": 10,
    "start_time": "2024-07-12T14:47:02.947Z"
   },
   {
    "duration": 7,
    "start_time": "2024-07-12T14:47:02.961Z"
   },
   {
    "duration": 57,
    "start_time": "2024-07-12T14:47:02.971Z"
   },
   {
    "duration": 26,
    "start_time": "2024-07-12T14:47:03.074Z"
   },
   {
    "duration": 7,
    "start_time": "2024-07-12T14:47:03.105Z"
   },
   {
    "duration": 9,
    "start_time": "2024-07-12T14:47:03.116Z"
   },
   {
    "duration": 80,
    "start_time": "2024-07-12T14:47:03.129Z"
   },
   {
    "duration": 1437,
    "start_time": "2024-07-12T14:47:31.129Z"
   },
   {
    "duration": 24,
    "start_time": "2024-07-12T14:47:32.570Z"
   },
   {
    "duration": 26,
    "start_time": "2024-07-12T14:47:32.608Z"
   },
   {
    "duration": 101,
    "start_time": "2024-07-12T14:47:32.637Z"
   },
   {
    "duration": 5,
    "start_time": "2024-07-12T14:47:32.742Z"
   },
   {
    "duration": 13,
    "start_time": "2024-07-12T14:47:32.751Z"
   },
   {
    "duration": 46,
    "start_time": "2024-07-12T14:47:32.766Z"
   },
   {
    "duration": 6,
    "start_time": "2024-07-12T14:47:32.816Z"
   },
   {
    "duration": 29,
    "start_time": "2024-07-12T14:47:32.827Z"
   },
   {
    "duration": 62,
    "start_time": "2024-07-12T14:47:32.859Z"
   },
   {
    "duration": 8,
    "start_time": "2024-07-12T14:47:32.926Z"
   },
   {
    "duration": 13,
    "start_time": "2024-07-12T14:47:32.939Z"
   },
   {
    "duration": 276,
    "start_time": "2024-07-12T14:47:32.956Z"
   },
   {
    "duration": 1384,
    "start_time": "2024-07-12T14:49:25.143Z"
   },
   {
    "duration": 24,
    "start_time": "2024-07-12T14:49:26.531Z"
   },
   {
    "duration": 27,
    "start_time": "2024-07-12T14:49:26.557Z"
   },
   {
    "duration": 76,
    "start_time": "2024-07-12T14:49:26.608Z"
   },
   {
    "duration": 19,
    "start_time": "2024-07-12T14:49:26.689Z"
   },
   {
    "duration": 13,
    "start_time": "2024-07-12T14:49:26.711Z"
   },
   {
    "duration": 9,
    "start_time": "2024-07-12T14:49:26.727Z"
   },
   {
    "duration": 7,
    "start_time": "2024-07-12T14:49:26.739Z"
   },
   {
    "duration": 73,
    "start_time": "2024-07-12T14:49:26.749Z"
   },
   {
    "duration": 24,
    "start_time": "2024-07-12T14:49:26.825Z"
   },
   {
    "duration": 6,
    "start_time": "2024-07-12T14:49:26.852Z"
   },
   {
    "duration": 8,
    "start_time": "2024-07-12T14:49:26.861Z"
   },
   {
    "duration": 279,
    "start_time": "2024-07-12T14:49:26.872Z"
   },
   {
    "duration": 1439,
    "start_time": "2024-07-12T14:50:32.386Z"
   },
   {
    "duration": 24,
    "start_time": "2024-07-12T14:50:33.829Z"
   },
   {
    "duration": 26,
    "start_time": "2024-07-12T14:50:33.855Z"
   },
   {
    "duration": 100,
    "start_time": "2024-07-12T14:50:33.884Z"
   },
   {
    "duration": 20,
    "start_time": "2024-07-12T14:50:33.989Z"
   },
   {
    "duration": 11,
    "start_time": "2024-07-12T14:50:34.012Z"
   },
   {
    "duration": 8,
    "start_time": "2024-07-12T14:50:34.027Z"
   },
   {
    "duration": 6,
    "start_time": "2024-07-12T14:50:34.039Z"
   },
   {
    "duration": 69,
    "start_time": "2024-07-12T14:50:34.049Z"
   },
   {
    "duration": 26,
    "start_time": "2024-07-12T14:50:34.121Z"
   },
   {
    "duration": 6,
    "start_time": "2024-07-12T14:50:34.149Z"
   },
   {
    "duration": 8,
    "start_time": "2024-07-12T14:50:34.159Z"
   },
   {
    "duration": 34,
    "start_time": "2024-07-12T14:50:34.208Z"
   },
   {
    "duration": 50,
    "start_time": "2024-07-12T14:50:42.205Z"
   },
   {
    "duration": 55,
    "start_time": "2024-07-12T14:50:50.920Z"
   },
   {
    "duration": 641,
    "start_time": "2024-07-12T14:52:02.914Z"
   },
   {
    "duration": 36,
    "start_time": "2024-07-12T14:52:29.190Z"
   },
   {
    "duration": 188,
    "start_time": "2024-07-12T14:54:00.940Z"
   },
   {
    "duration": 10,
    "start_time": "2024-07-12T14:55:38.866Z"
   },
   {
    "duration": 8,
    "start_time": "2024-07-12T14:56:16.302Z"
   },
   {
    "duration": 10,
    "start_time": "2024-07-12T14:56:46.629Z"
   },
   {
    "duration": 7,
    "start_time": "2024-07-12T14:56:55.705Z"
   },
   {
    "duration": 50,
    "start_time": "2024-07-12T14:59:50.896Z"
   },
   {
    "duration": 632,
    "start_time": "2024-07-12T14:59:52.152Z"
   },
   {
    "duration": 35,
    "start_time": "2024-07-12T14:59:54.552Z"
   },
   {
    "duration": 436,
    "start_time": "2024-07-12T15:02:16.939Z"
   },
   {
    "duration": 5,
    "start_time": "2024-07-12T15:02:41.438Z"
   },
   {
    "duration": 8,
    "start_time": "2024-07-12T15:02:45.231Z"
   },
   {
    "duration": 5,
    "start_time": "2024-07-12T15:10:29.338Z"
   },
   {
    "duration": 12,
    "start_time": "2024-07-12T15:13:31.031Z"
   },
   {
    "duration": 17,
    "start_time": "2024-07-12T15:13:51.409Z"
   },
   {
    "duration": 16,
    "start_time": "2024-07-12T15:16:13.688Z"
   },
   {
    "duration": 16,
    "start_time": "2024-07-12T15:17:23.782Z"
   },
   {
    "duration": 70,
    "start_time": "2024-07-12T15:19:55.641Z"
   },
   {
    "duration": 7,
    "start_time": "2024-07-12T15:20:10.929Z"
   },
   {
    "duration": 27,
    "start_time": "2024-07-12T15:20:15.000Z"
   },
   {
    "duration": 25,
    "start_time": "2024-07-12T15:22:45.505Z"
   },
   {
    "duration": 26,
    "start_time": "2024-07-12T15:23:01.628Z"
   },
   {
    "duration": 89,
    "start_time": "2024-07-12T15:23:08.332Z"
   },
   {
    "duration": 1292,
    "start_time": "2024-07-12T15:24:05.142Z"
   },
   {
    "duration": 77,
    "start_time": "2024-07-12T15:24:51.185Z"
   },
   {
    "duration": 26013,
    "start_time": "2024-07-12T15:29:30.504Z"
   },
   {
    "duration": 108,
    "start_time": "2024-07-12T15:31:53.068Z"
   },
   {
    "duration": 696,
    "start_time": "2024-07-12T15:32:28.790Z"
   },
   {
    "duration": 27944,
    "start_time": "2024-07-12T15:32:59.448Z"
   },
   {
    "duration": 101,
    "start_time": "2024-07-12T15:33:53.837Z"
   },
   {
    "duration": 107,
    "start_time": "2024-07-12T15:34:29.657Z"
   },
   {
    "duration": 475822,
    "start_time": "2024-07-12T15:37:02.925Z"
   },
   {
    "duration": 9,
    "start_time": "2024-07-12T15:48:12.018Z"
   },
   {
    "duration": 38,
    "start_time": "2024-07-12T15:48:12.038Z"
   },
   {
    "duration": 22,
    "start_time": "2024-07-12T15:48:12.079Z"
   },
   {
    "duration": 29,
    "start_time": "2024-07-12T15:48:12.110Z"
   },
   {
    "duration": 6,
    "start_time": "2024-07-12T15:48:12.142Z"
   },
   {
    "duration": 13,
    "start_time": "2024-07-12T15:48:12.150Z"
   },
   {
    "duration": 10,
    "start_time": "2024-07-12T15:48:12.166Z"
   },
   {
    "duration": 6,
    "start_time": "2024-07-12T15:48:12.216Z"
   },
   {
    "duration": 41,
    "start_time": "2024-07-12T15:48:12.240Z"
   },
   {
    "duration": 40,
    "start_time": "2024-07-12T15:48:12.286Z"
   },
   {
    "duration": 11,
    "start_time": "2024-07-12T15:48:12.337Z"
   },
   {
    "duration": 10,
    "start_time": "2024-07-12T15:48:12.351Z"
   },
   {
    "duration": 39,
    "start_time": "2024-07-12T15:48:12.364Z"
   },
   {
    "duration": 60,
    "start_time": "2024-07-12T15:48:12.406Z"
   },
   {
    "duration": 807,
    "start_time": "2024-07-12T15:48:12.469Z"
   },
   {
    "duration": 42,
    "start_time": "2024-07-12T15:48:13.279Z"
   },
   {
    "duration": 88,
    "start_time": "2024-07-12T15:48:13.325Z"
   },
   {
    "duration": 0,
    "start_time": "2024-07-12T15:48:13.418Z"
   },
   {
    "duration": 0,
    "start_time": "2024-07-12T15:48:13.424Z"
   },
   {
    "duration": 0,
    "start_time": "2024-07-12T15:48:13.432Z"
   },
   {
    "duration": 0,
    "start_time": "2024-07-12T15:48:13.436Z"
   },
   {
    "duration": 0,
    "start_time": "2024-07-12T15:48:13.442Z"
   },
   {
    "duration": 0,
    "start_time": "2024-07-12T15:48:13.448Z"
   },
   {
    "duration": 0,
    "start_time": "2024-07-12T15:48:13.454Z"
   },
   {
    "duration": 0,
    "start_time": "2024-07-12T15:48:13.456Z"
   },
   {
    "duration": 0,
    "start_time": "2024-07-12T15:48:13.459Z"
   },
   {
    "duration": 0,
    "start_time": "2024-07-12T15:48:13.462Z"
   },
   {
    "duration": 0,
    "start_time": "2024-07-12T15:48:13.465Z"
   },
   {
    "duration": 0,
    "start_time": "2024-07-12T15:48:13.467Z"
   },
   {
    "duration": 0,
    "start_time": "2024-07-12T15:48:13.470Z"
   },
   {
    "duration": 180,
    "start_time": "2024-07-12T15:48:54.346Z"
   },
   {
    "duration": 7,
    "start_time": "2024-07-12T15:48:56.641Z"
   },
   {
    "duration": 15,
    "start_time": "2024-07-12T15:48:58.081Z"
   },
   {
    "duration": 15,
    "start_time": "2024-07-12T15:49:01.077Z"
   },
   {
    "duration": 32,
    "start_time": "2024-07-12T15:49:03.108Z"
   },
   {
    "duration": 22,
    "start_time": "2024-07-12T15:49:06.141Z"
   },
   {
    "duration": 104,
    "start_time": "2024-07-12T15:49:08.404Z"
   },
   {
    "duration": 1374,
    "start_time": "2024-07-12T15:49:10.615Z"
   },
   {
    "duration": 103,
    "start_time": "2024-07-12T15:49:16.256Z"
   },
   {
    "duration": 32019,
    "start_time": "2024-07-12T15:49:25.205Z"
   },
   {
    "duration": 117,
    "start_time": "2024-07-12T15:50:16.671Z"
   },
   {
    "duration": 3820952,
    "start_time": "2024-07-12T15:50:22.757Z"
   },
   {
    "duration": 2802,
    "start_time": "2024-07-12T17:10:28.326Z"
   },
   {
    "duration": 52793,
    "start_time": "2024-07-12T17:10:38.668Z"
   },
   {
    "duration": 46,
    "start_time": "2024-07-12T17:12:30.253Z"
   },
   {
    "duration": 6,
    "start_time": "2024-07-12T17:12:46.485Z"
   },
   {
    "duration": 13,
    "start_time": "2024-07-12T17:12:57.081Z"
   },
   {
    "duration": 66,
    "start_time": "2024-07-12T17:13:04.847Z"
   },
   {
    "duration": 288,
    "start_time": "2024-07-12T17:13:10.067Z"
   },
   {
    "duration": 378,
    "start_time": "2024-07-12T17:14:07.853Z"
   },
   {
    "duration": 326,
    "start_time": "2024-07-12T17:14:30.925Z"
   },
   {
    "duration": 468,
    "start_time": "2024-07-12T17:14:38.692Z"
   }
  ],
  "kernelspec": {
   "display_name": "Python 3 (ipykernel)",
   "language": "python",
   "name": "python3"
  },
  "language_info": {
   "codemirror_mode": {
    "name": "ipython",
    "version": 3
   },
   "file_extension": ".py",
   "mimetype": "text/x-python",
   "name": "python",
   "nbconvert_exporter": "python",
   "pygments_lexer": "ipython3",
   "version": "3.9.19"
  },
  "toc": {
   "base_numbering": 1,
   "nav_menu": {},
   "number_sections": true,
   "sideBar": true,
   "skip_h1_title": true,
   "title_cell": "Table of Contents",
   "title_sidebar": "Contents",
   "toc_cell": false,
   "toc_position": {},
   "toc_section_display": true,
   "toc_window_display": false
  }
 },
 "nbformat": 4,
 "nbformat_minor": 2
}
